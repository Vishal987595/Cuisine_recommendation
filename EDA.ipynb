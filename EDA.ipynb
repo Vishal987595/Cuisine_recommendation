{
 "cells": [
  {
   "cell_type": "code",
   "execution_count": 9,
   "metadata": {},
   "outputs": [
    {
     "name": "stdout",
     "output_type": "stream",
     "text": [
      "recipe list after merging all datasets and removing duplicates is: 15479\n"
     ]
    }
   ],
   "source": [
    "import pandas as pd\n",
    "number = [i for i in range(174)]\n",
    "datasets = [pd.read_csv('data/recipe.csv')]\n",
    "for k in number:\n",
    "    trial = pd.read_csv(f'data/recipe_cuisine_recipe_info{k}.csv')\n",
    "    datasets.append(trial)\n",
    "master_data = pd.concat(datasets).drop_duplicates()\n",
    "print(\"Recipe list after merging all datasets and removing duplicates is:\", master_data.shape[0])"
   ]
  },
  {
   "cell_type": "code",
   "execution_count": 7,
   "metadata": {},
   "outputs": [],
   "source": [
    "master_data.to_csv('data/master.csv', index=False)"
   ]
  },
  {
   "cell_type": "code",
   "execution_count": 10,
   "metadata": {},
   "outputs": [
    {
     "name": "stdout",
     "output_type": "stream",
     "text": [
      "Unique cuisine labels 35\n"
     ]
    }
   ],
   "source": [
    "recipe_cuisine = pd.read_csv('data/recipe_cuisine.csv')\n",
    "recipe_cuisines_list = recipe_cuisine['cuisine'].unique()\n",
    "print(\"Unique cuisine labels\",len(recipe_cuisines_list))"
   ]
  },
  {
   "cell_type": "code",
   "execution_count": 12,
   "metadata": {},
   "outputs": [],
   "source": [
    "X_dataset = master_data[['name', 'recipe_category']].copy()\n",
    "Y_dataset = master_data[['recipe_cuisine']]\n",
    "X = []\n",
    "Y = []\n",
    "recipe_items = set()\n",
    "for name, items in zip(X_dataset['name'], X_dataset['recipe_category']):\n",
    "  temp = str(items).split(\"$\")\n",
    "  for i in temp:\n",
    "    recipe_items.add(i)\n",
    "  temp.append(str(name).split(\" \"))\n",
    "  X.append(temp)\n",
    "\n",
    "cuisine_type = set()\n",
    "for cuisines in Y_dataset['recipe_cuisine']:\n",
    "  temp = str(cuisines).split(\"$\")\n",
    "  for j in temp:\n",
    "        if len(j.strip()):\n",
    "            cuisine_type.add(j.strip())\n",
    "  Y.append(temp)"
   ]
  },
  {
   "cell_type": "code",
   "execution_count": 13,
   "metadata": {},
   "outputs": [
    {
     "name": "stdout",
     "output_type": "stream",
     "text": [
      "Unique recipe names: 14986\n",
      "Unique cuisine types: 59\n",
      "Unique ingredients used: 893\n"
     ]
    }
   ],
   "source": [
    "print(\"Unique recipe names:\", len(X_dataset['name'].unique()))\n",
    "print(\"Unique cuisine types:\", len(cuisine_type))\n",
    "print(\"Unique ingredients used:\", len(recipe_items))"
   ]
  }
 ],
 "metadata": {
  "kernelspec": {
   "display_name": "food",
   "language": "python",
   "name": "python3"
  },
  "language_info": {
   "codemirror_mode": {
    "name": "ipython",
    "version": 3
   },
   "file_extension": ".py",
   "mimetype": "text/x-python",
   "name": "python",
   "nbconvert_exporter": "python",
   "pygments_lexer": "ipython3",
   "version": "3.9.9"
  },
  "orig_nbformat": 4
 },
 "nbformat": 4,
 "nbformat_minor": 2
}
